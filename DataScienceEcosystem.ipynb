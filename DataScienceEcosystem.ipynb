{
  "metadata": {
    "kernelspec": {
      "name": "python",
      "display_name": "Python (Pyodide)",
      "language": "python"
    },
    "language_info": {
      "codemirror_mode": {
        "name": "python",
        "version": 3
      },
      "file_extension": ".py",
      "mimetype": "text/x-python",
      "name": "python",
      "nbconvert_exporter": "python",
      "pygments_lexer": "ipython3",
      "version": "3.8"
    }
  },
  "nbformat_minor": 4,
  "nbformat": 4,
  "cells": [
    {
      "cell_type": "code",
      "source": "#Exercise 2: Create markdown cell with title of the notebook\n\n#Create a markdown cell with the title Data Science Tools and Ecosystem using H1 style heading.",
      "metadata": {
        "trusted": true
      },
      "outputs": [],
      "execution_count": 2
    },
    {
      "cell_type": "markdown",
      "source": "# Data Science Tools and Ecosystem",
      "metadata": {}
    },
    {
      "cell_type": "code",
      "source": "#Exercise 3 - Create a markdown cell for an introduction\n\n#Write an introductory sentence about the notebook such as the follows:",
      "metadata": {
        "trusted": true
      },
      "outputs": [],
      "execution_count": null
    },
    {
      "cell_type": "markdown",
      "source": "In this notebook, Data Science Tools and Ecosystem are summarized.",
      "metadata": {}
    },
    {
      "cell_type": "code",
      "source": "#Exercise 10 - Insert a markdown cell to list Objectives\n\n#Below the introduction cell created in Exercise 3, insert a new markdown cell to list the objectives that this \n#notebook covered (i.e. some of the key takeaways from the course). In this new cell start with an introductory \n#line titled: Objectives: in bold font. Then using an unordered list (bullets) indicate 3 to 5 items covered in \n#this notebook, such as List popular languages for Data Science.",
      "metadata": {
        "trusted": true
      },
      "outputs": [],
      "execution_count": null
    },
    {
      "cell_type": "markdown",
      "source": "**Objectives:**\n- List of popular languages for Data Science\n- List of Data Science libraries\n- Table of Data Science tools\n- Arithmetic expression examples\n    - Multiply and add numbers\n    - Converting minutes to hours",
      "metadata": {}
    },
    {
      "cell_type": "code",
      "source": "#Exercise 4 - Create a markdown cell to list data science languages\n\n#Start the cell with an overview line such as:",
      "metadata": {
        "trusted": true
      },
      "outputs": [],
      "execution_count": null
    },
    {
      "cell_type": "markdown",
      "source": "Some of the popular languages that Data Scientists use are:\n1. Python\n2. Julia\n3. R\n4. SQL\n5. Java\n6. Scala",
      "metadata": {}
    },
    {
      "cell_type": "code",
      "source": "#Exercise 5 - Create a markdown cell to list data science libraries\n\n#Add an overview line to the cell like:",
      "metadata": {
        "trusted": true
      },
      "outputs": [],
      "execution_count": null
    },
    {
      "cell_type": "markdown",
      "source": "Some of the commonly used libraries used by Data Scientists include:\n1. NumPy\n2. Pandas\n3. SciPy\n4. PyTorch\n5. MatPlotLib\n6. TensorFlow\n7. Scikit-learn\n8. SeaBorn",
      "metadata": {}
    },
    {
      "cell_type": "code",
      "source": "#Exercise 6 - Create a markdown cell with a table of Data Science tools\n\n#Create a single column table in this cell with the first row containing the header Data Science Tools. \n#The subsequent three rows in the table should indicate three development environment open source tools used \n#in data science.",
      "metadata": {
        "trusted": true
      },
      "outputs": [],
      "execution_count": null
    },
    {
      "cell_type": "markdown",
      "source": "| Data Science Tools |\n----------------------\n| Jupyter Notebook |\n| RStudio |\n| VS Code |",
      "metadata": {}
    },
    {
      "cell_type": "code",
      "source": "#Exercise 7 - Create a markdown cell introducing arithmetic expression examples\n\n#Add a line in this cell with H3 style heading with text like:",
      "metadata": {
        "trusted": true
      },
      "outputs": [],
      "execution_count": 3
    },
    {
      "cell_type": "markdown",
      "source": "### Below are a few examples of evaluating arithmetic expressions in Python",
      "metadata": {}
    },
    {
      "cell_type": "code",
      "source": "#Exercise 8 - Create a code cell to multiply and add numbers\n\n#In this code cell evaluate the expression (3*4)+5.\n#Insert a comment line before the expression to explain the operation e.g.  \n#This a simple arithmetic expression to mutiply then add integers.\n#Then execute the cell to ensure the expression returns the expected output of 17.",
      "metadata": {
        "trusted": true
      },
      "outputs": [],
      "execution_count": 4
    },
    {
      "cell_type": "code",
      "source": "#This a simple arithmetic expression to multiply then add integers.\n(3*4)+5",
      "metadata": {
        "trusted": true
      },
      "outputs": [
        {
          "execution_count": 7,
          "output_type": "execute_result",
          "data": {
            "text/plain": "17"
          },
          "metadata": {}
        }
      ],
      "execution_count": 7
    },
    {
      "cell_type": "code",
      "source": "#Exercise 9 - Create a code cell to convert minutes to hours\n\n#In this code cell write an expression that converts 200 minutes into hours.\n#Insert a comment line before the expression to explain the operation e.g.  \n#This will convert 200 minutes to hours by diving by 60.\n#Run the cell to evaluate the expression.",
      "metadata": {
        "trusted": true
      },
      "outputs": [],
      "execution_count": null
    },
    {
      "cell_type": "code",
      "source": "#This will convert 200 minutes to hours by dividing by 60\nminute = 200\nhour = minute / 60\nprint(hour)",
      "metadata": {
        "trusted": true
      },
      "outputs": [
        {
          "name": "stdout",
          "text": "3.3333333333333335\n",
          "output_type": "stream"
        }
      ],
      "execution_count": 8
    },
    {
      "cell_type": "code",
      "source": "#Exercise 11 - Create a markdown cell to indicate the Author's name\n\n#In this markdown cell markdown cell include the following text Author in H2 style heading. Include your name as \n#regular text below the word Author.",
      "metadata": {
        "trusted": true
      },
      "outputs": [],
      "execution_count": null
    },
    {
      "cell_type": "markdown",
      "source": "## Author\nÖrdög Katalin",
      "metadata": {}
    },
    {
      "cell_type": "code",
      "source": "",
      "metadata": {
        "trusted": true
      },
      "outputs": [],
      "execution_count": null
    }
  ]
}